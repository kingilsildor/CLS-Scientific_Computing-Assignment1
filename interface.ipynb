{
 "cells": [
  {
   "cell_type": "code",
   "execution_count": null,
   "metadata": {},
   "outputs": [],
   "source": [
    "import numpy as np\n",
    "\n",
    "from modules.wave_equation import solve_wave_equation"
   ]
  },
  {
   "cell_type": "markdown",
   "metadata": {},
   "source": [
    "----------\n",
    "## 1.1\n",
    "We'll explore how to numerically solve the one-dimensional wave equation using different initial conditions"
   ]
  },
  {
   "cell_type": "code",
   "execution_count": null,
   "metadata": {},
   "outputs": [],
   "source": [
    "def init_one(x_vec):\n",
    "    return np.sin(2 * np.pi * x_vec)\n",
    "\n",
    "\n",
    "def init_two(x_vec):\n",
    "    return np.sin(5 * np.pi * x_vec)\n",
    "\n",
    "\n",
    "def init_three(x_vec):\n",
    "    return np.sin(5 * np.pi * x_vec) * ((1 / 5 < x_vec) & (x_vec < 2 / 5))"
   ]
  },
  {
   "cell_type": "code",
   "execution_count": null,
   "metadata": {},
   "outputs": [],
   "source": [
    "L, T = 1.0, 1.0\n",
    "N_SPATIAL_STEPS, N_TIME_STEPS = 1000, 1000\n",
    "c = 1.0\n",
    "N_LINES = 10\n",
    "\n",
    "solve_wave_equation(L, T, N_SPATIAL_STEPS, N_TIME_STEPS, c, N_LINES, init_one)"
   ]
  },
  {
   "cell_type": "code",
   "execution_count": null,
   "metadata": {},
   "outputs": [],
   "source": [
    "solve_wave_equation(L, T, N_SPATIAL_STEPS, N_TIME_STEPS, c, N_LINES, init_two)"
   ]
  },
  {
   "cell_type": "code",
   "execution_count": null,
   "metadata": {},
   "outputs": [],
   "source": [
    "solve_wave_equation(L, T, N_SPATIAL_STEPS, N_TIME_STEPS, c, N_LINES, init_three)"
   ]
  },
  {
   "cell_type": "markdown",
   "metadata": {},
   "source": [
    "----------\n",
    "## 1.2"
   ]
  },
  {
   "cell_type": "code",
   "execution_count": null,
   "metadata": {},
   "outputs": [],
   "source": []
  },
  {
   "cell_type": "markdown",
   "metadata": {},
   "source": [
    "----------\n",
    "## 1.4 Jacobi"
   ]
  },
  {
   "cell_type": "code",
   "execution_count": null,
   "metadata": {},
   "outputs": [],
   "source": [
    "from modules.diffusion_equation import init_grid, jacobi, diffusion_animation\n",
    "\n",
    "max_iters = 100000\n",
    "epsilon = 1e-4\n",
    "N = 100\n",
    "\n",
    "grid = init_grid(N)\n",
    "\n",
    "jacobi_results = jacobi(grid, epsilon, max_iters)\n",
    "\n",
    "print(f'The number of iterations needed for Jacobi method is {len(jacobi_results)}')\n",
    "\n",
    "diffusion_animation(jacobi_results)"
   ]
  },
  {
   "cell_type": "markdown",
   "metadata": {},
   "source": [
    "----------\n",
    "## 1.5 Gauss-Seidel"
   ]
  },
  {
   "cell_type": "code",
   "execution_count": null,
   "metadata": {},
   "outputs": [],
   "source": [
    "from modules.diffusion_equation import init_grid, gauss_seidel, diffusion_animation\n",
    "\n",
    "max_iters = 100000\n",
    "epsilon = 1e-4\n",
    "N = 100\n",
    "\n",
    "grid = init_grid(N)\n",
    "\n",
    "gauss_seidel_results = gauss_seidel(grid, epsilon, max_iters)\n",
    "\n",
    "print(f'The number of iterations needed for Gauss-Seidel method is {len(gauss_seidel_results)}')\n",
    "\n",
    "diffusion_animation(gauss_seidel_results)"
   ]
  },
  {
   "cell_type": "code",
   "execution_count": null,
   "metadata": {},
   "outputs": [],
   "source": []
  }
 ],
 "metadata": {
  "kernelspec": {
   "display_name": "base",
   "language": "python",
   "name": "python3"
  },
  "language_info": {
   "codemirror_mode": {
    "name": "ipython",
    "version": 3
   },
   "file_extension": ".py",
   "mimetype": "text/x-python",
   "name": "python",
   "nbconvert_exporter": "python",
   "pygments_lexer": "ipython3",
   "version": "3.12.7"
  }
 },
 "nbformat": 4,
 "nbformat_minor": 2
}
