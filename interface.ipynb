{
 "cells": [
  {
   "cell_type": "code",
   "execution_count": null,
   "metadata": {},
   "outputs": [],
   "source": [
    "import numpy as np\n",
    "\n",
    "from modules.wave_equation import solve_wave_equation\n",
    "from modules.diffusion_equation import (\n",
    "    calc_diffusion,\n",
    "    animate_diffusion,\n",
    "    plot_concentration,\n",
    "    plot_grid,\n",
    "    init_grid,\n",
    "    jacobi,\n",
    "    gauss_seidel,\n",
    "    delete_files\n",
    ")"
   ]
  },
  {
   "cell_type": "markdown",
   "metadata": {},
   "source": [
    "----------\n",
    "## 1.1\n",
    "We'll explore how to numerically solve the one-dimensional wave equation using different initial conditions"
   ]
  },
  {
   "cell_type": "code",
   "execution_count": null,
   "metadata": {},
   "outputs": [],
   "source": [
    "def init_one(x_vec):\n",
    "    return np.sin(2 * np.pi * x_vec)\n",
    "\n",
    "\n",
    "def init_two(x_vec):\n",
    "    return np.sin(5 * np.pi * x_vec)\n",
    "\n",
    "\n",
    "def init_three(x_vec):\n",
    "    return np.sin(5 * np.pi * x_vec) * ((1 / 5 < x_vec) & (x_vec < 2 / 5))"
   ]
  },
  {
   "cell_type": "code",
   "execution_count": null,
   "metadata": {},
   "outputs": [],
   "source": [
    "L, T = 1.0, 1.0\n",
    "N_SPATIAL_STEPS, N_TIME_STEPS = 1000, 1000\n",
    "c = 1.0\n",
    "\n",
    "solve_wave_equation(\n",
    "    L,\n",
    "    T,\n",
    "    N_SPATIAL_STEPS,\n",
    "    N_TIME_STEPS,\n",
    "    c,\n",
    "    init_one,\n",
    "    N_lines=3,\n",
    "    save_location=\"results/wave_equation_one\",\n",
    ")"
   ]
  },
  {
   "cell_type": "code",
   "execution_count": null,
   "metadata": {},
   "outputs": [],
   "source": [
    "solve_wave_equation(\n",
    "    L,\n",
    "    T,\n",
    "    N_SPATIAL_STEPS,\n",
    "    N_TIME_STEPS,\n",
    "    c,\n",
    "    init_two,\n",
    "    save_location=\"results/wave_equation_two\",\n",
    ")"
   ]
  },
  {
   "cell_type": "code",
   "execution_count": null,
   "metadata": {},
   "outputs": [],
   "source": [
    "solve_wave_equation(\n",
    "    L,\n",
    "    T,\n",
    "    N_SPATIAL_STEPS,\n",
    "    N_TIME_STEPS,\n",
    "    c,\n",
    "    init_three,\n",
    "    save_location=\"results/wave_equation_three\",\n",
    ")"
   ]
  },
  {
   "cell_type": "code",
   "execution_count": null,
   "metadata": {},
   "outputs": [],
   "source": [
    "solve_wave_equation(\n",
    "    L,\n",
    "    T,\n",
    "    N_SPATIAL_STEPS,\n",
    "    N_TIME_STEPS,\n",
    "    c,\n",
    "    init_one,\n",
    "    animate=True,\n",
    "    save_location=\"results/wave_equation_one\",\n",
    ")\n",
    "solve_wave_equation(\n",
    "    L,\n",
    "    T,\n",
    "    N_SPATIAL_STEPS,\n",
    "    N_TIME_STEPS,\n",
    "    c,\n",
    "    init_one,\n",
    "    animate=True,\n",
    "    save_location=\"results/wave_equation_two\",\n",
    ")\n",
    "solve_wave_equation(\n",
    "    L,\n",
    "    T,\n",
    "    N_SPATIAL_STEPS,\n",
    "    N_TIME_STEPS,\n",
    "    c,\n",
    "    init_one,\n",
    "    animate=True,\n",
    "    save_location=\"results/wave_equation_three\",\n",
    ")\n"
   ]
  },
  {
   "cell_type": "markdown",
   "metadata": {},
   "source": [
    "----------\n",
    "## 1.2"
   ]
  },
  {
   "cell_type": "code",
   "execution_count": null,
   "metadata": {},
   "outputs": [],
   "source": [
    "N = 50\n",
    "D = 1.0\n",
    "dx = 1.0 / N\n",
    "dt = 0.001\n",
    "steps = 1_000_000\n",
    "times = [0.001, 0.01, 0.1, 1.0]\n",
    "calc_diffusion(N, steps, D, dx, dt)\n",
    "\n",
    "plot_concentration(steps, times)"
   ]
  },
  {
   "cell_type": "code",
   "execution_count": null,
   "metadata": {},
   "outputs": [],
   "source": [
    "plot_grid(times=[0.001, 0.01, 0.1, 1.0])"
   ]
  },
  {
   "cell_type": "code",
   "execution_count": null,
   "metadata": {},
   "outputs": [],
   "source": [
    "plot_grid()"
   ]
  },
  {
   "cell_type": "code",
   "execution_count": null,
   "metadata": {},
   "outputs": [],
   "source": [
    "animate_diffusion(steps=steps, skips=1000, save_animation=True)"
   ]
  },
  {
   "cell_type": "markdown",
   "metadata": {},
   "source": [
    "----------\n",
    "## 1.6\n",
    "Code for part 1.6 can be executed by directly running the following python files.\n",
    "\n",
    "For part H and I: `modulemodules/comparing_iterative_method.py`\n",
    "\n",
    "For part J: `modules/finding_opt_omega_empirically.py` and `modules/omega_vs_gridsize_graph.py`\n",
    "\n",
    "For part K: `modules/grid_with_shapes_graph.py`"
   ]
  }
 ],
 "metadata": {
  "kernelspec": {
   "display_name": "Python [conda env:base] *",
   "language": "python",
   "name": "conda-base-py"
  },
  "language_info": {
   "codemirror_mode": {
    "name": "ipython",
    "version": 3
   },
   "file_extension": ".py",
   "mimetype": "text/x-python",
   "name": "python",
   "nbconvert_exporter": "python",
   "pygments_lexer": "ipython3",
   "version": "3.12.7"
  }
 },
 "nbformat": 4,
 "nbformat_minor": 4
}
