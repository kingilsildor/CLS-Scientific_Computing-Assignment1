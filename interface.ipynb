{
 "cells": [
  {
   "cell_type": "code",
   "execution_count": null,
   "metadata": {},
   "outputs": [],
   "source": [
    "import numpy as np\n",
    "\n",
    "from modules.wave_equation import solve_wave_equation"
   ]
  },
  {
   "cell_type": "markdown",
   "metadata": {},
   "source": [
    "----------\n",
    "## 1.1\n",
    "We'll explore how to numerically solve the one-dimensional wave equation using different initial conditions"
   ]
  },
  {
   "cell_type": "code",
   "execution_count": null,
   "metadata": {},
   "outputs": [],
   "source": [
    "def init_one(x_vec):\n",
    "    return np.sin(2 * np.pi * x_vec)\n",
    "\n",
    "\n",
    "def init_two(x_vec):\n",
    "    return np.sin(5 * np.pi * x_vec)\n",
    "\n",
    "\n",
    "def init_three(x_vec):\n",
    "    return np.sin(5 * np.pi * x_vec) * ((1 / 5 < x_vec) & (x_vec < 2 / 5))"
   ]
  },
  {
   "cell_type": "code",
   "execution_count": null,
   "metadata": {},
   "outputs": [],
   "source": [
    "L, T = 1.0, 0.5\n",
    "N_SPATIAL_STEPS, N_TIME_STEPS = 100, 100\n",
    "c = 1.0\n",
    "N_LINES = 10\n",
    "\n",
    "solve_wave_equation(L, T, N_SPATIAL_STEPS, N_TIME_STEPS, c, N_LINES, init_one)"
   ]
  },
  {
   "cell_type": "code",
   "execution_count": null,
   "metadata": {},
   "outputs": [],
   "source": [
    "solve_wave_equation(L, T, N_SPATIAL_STEPS, N_TIME_STEPS, c, N_LINES, init_two)"
   ]
  },
  {
   "cell_type": "code",
   "execution_count": null,
   "metadata": {},
   "outputs": [],
   "source": [
    "solve_wave_equation(L, T, N_SPATIAL_STEPS, N_TIME_STEPS, c, N_LINES, init_three)"
   ]
  },
  {
   "cell_type": "markdown",
   "metadata": {},
   "source": [
    "----------\n",
    "## 1.2"
   ]
  },
  {
   "cell_type": "code",
   "execution_count": null,
   "metadata": {},
   "outputs": [],
   "source": []
  }
 ],
 "metadata": {
  "kernelspec": {
   "display_name": "scientific-comp",
   "language": "python",
   "name": "python3"
  },
  "language_info": {
   "codemirror_mode": {
    "name": "ipython",
    "version": 3
   },
   "file_extension": ".py",
   "mimetype": "text/x-python",
   "name": "python",
   "nbconvert_exporter": "python",
   "pygments_lexer": "ipython3",
   "version": "3.12.8"
  }
 },
 "nbformat": 4,
 "nbformat_minor": 2
}
