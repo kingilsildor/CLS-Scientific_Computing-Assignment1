{
 "cells": [
  {
   "cell_type": "code",
   "execution_count": null,
   "metadata": {},
   "outputs": [],
   "source": [
    "import numpy as np\n",
    "\n",
    "from modules.wave_equation import solve_wave_equation\n",
    "from modules.diffusion_equation import (\n",
    "    calc_diffusion,\n",
    "    animate_diffusion,\n",
    "    plot_concentration,\n",
    "    plot_grid,\n",
    "    init_grid,\n",
    "    jacobi,\n",
    "    gauss_seidel,\n",
    ")"
   ]
  },
  {
   "cell_type": "markdown",
   "metadata": {},
   "source": [
    "----------\n",
    "## 1.1\n",
    "We'll explore how to numerically solve the one-dimensional wave equation using different initial conditions"
   ]
  },
  {
   "cell_type": "code",
   "execution_count": null,
   "metadata": {},
   "outputs": [],
   "source": [
    "def init_one(x_vec):\n",
    "    return np.sin(2 * np.pi * x_vec)\n",
    "\n",
    "\n",
    "def init_two(x_vec):\n",
    "    return np.sin(5 * np.pi * x_vec)\n",
    "\n",
    "\n",
    "def init_three(x_vec):\n",
    "    return np.sin(5 * np.pi * x_vec) * ((1 / 5 < x_vec) & (x_vec < 2 / 5))"
   ]
  },
  {
   "cell_type": "code",
   "execution_count": null,
   "metadata": {},
   "outputs": [],
   "source": [
    "L, T = 1.0, 1.0\n",
    "N_SPATIAL_STEPS, N_TIME_STEPS = 1000, 1000\n",
    "c = 1.0\n",
    "\n",
    "solve_wave_equation(\n",
    "    L,\n",
    "    T,\n",
    "    N_SPATIAL_STEPS,\n",
    "    N_TIME_STEPS,\n",
    "    c,\n",
    "    init_one,\n",
    "    N_lines=3,\n",
    "    save_location=\"results/wave_equation_one\",\n",
    ")"
   ]
  },
  {
   "cell_type": "code",
   "execution_count": null,
   "metadata": {},
   "outputs": [],
   "source": [
    "solve_wave_equation(\n",
    "    L,\n",
    "    T,\n",
    "    N_SPATIAL_STEPS,\n",
    "    N_TIME_STEPS,\n",
    "    c,\n",
    "    init_two,\n",
    "    save_location=\"results/wave_equation_two\",\n",
    ")"
   ]
  },
  {
   "cell_type": "code",
   "execution_count": null,
   "metadata": {},
   "outputs": [],
   "source": [
    "solve_wave_equation(\n",
    "    L,\n",
    "    T,\n",
    "    N_SPATIAL_STEPS,\n",
    "    N_TIME_STEPS,\n",
    "    c,\n",
    "    init_three,\n",
    "    save_location=\"results/wave_equation_three\",\n",
    ")"
   ]
  },
  {
   "cell_type": "code",
   "execution_count": null,
   "metadata": {},
   "outputs": [],
   "source": [
    "solve_wave_equation(\n",
    "    L,\n",
    "    T,\n",
    "    N_SPATIAL_STEPS,\n",
    "    N_TIME_STEPS,\n",
    "    c,\n",
    "    init_one,\n",
    "    animate=True,\n",
    "    save_location=\"results/wave_equation_one\",\n",
    ")\n",
    "solve_wave_equation(\n",
    "    L,\n",
    "    T,\n",
    "    N_SPATIAL_STEPS,\n",
    "    N_TIME_STEPS,\n",
    "    c,\n",
    "    init_one,\n",
    "    animate=True,\n",
    "    save_location=\"results/wave_equation_two\",\n",
    ")\n",
    "solve_wave_equation(\n",
    "    L,\n",
    "    T,\n",
    "    N_SPATIAL_STEPS,\n",
    "    N_TIME_STEPS,\n",
    "    c,\n",
    "    init_one,\n",
    "    animate=True,\n",
    "    save_location=\"results/wave_equation_three\",\n",
    ")\n"
   ]
  },
  {
   "cell_type": "markdown",
   "metadata": {},
   "source": [
    "----------\n",
    "## 1.2"
   ]
  },
  {
   "cell_type": "code",
   "execution_count": null,
   "metadata": {},
   "outputs": [],
   "source": [
    "N = 50\n",
    "D = 1.0\n",
    "dx = 1.0 / N\n",
    "dt = 0.001\n",
    "steps = 1_000_000\n",
    "results = calc_diffusion(N, D, dx, dt, steps, init_one)\n",
    "\n",
    "plot_concentration(results, [0.001, 0.01, 0.1, 1])"
   ]
  },
  {
   "cell_type": "code",
   "execution_count": null,
   "metadata": {},
   "outputs": [],
   "source": [
    "plot_grid(results)"
   ]
  },
  {
   "cell_type": "code",
   "execution_count": null,
   "metadata": {},
   "outputs": [],
   "source": [
    "animate_diffusion(results)"
   ]
  },
  {
   "cell_type": "markdown",
   "metadata": {},
   "source": [
    "----------\n",
    "## 1.4 Jacobi"
   ]
  },
  {
   "cell_type": "code",
   "execution_count": null,
   "metadata": {},
   "outputs": [],
   "source": [
    "max_iters = 100000\n",
    "epsilon = 1e-4\n",
    "N = 100\n",
    "\n",
    "grid = init_grid(N)\n",
    "\n",
    "jacobi_results = jacobi(grid, epsilon, max_iters)\n",
    "\n",
    "print(f\"The number of iterations needed for Jacobi method is {len(jacobi_results)}\")\n",
    "\n",
    "animate_diffusion(jacobi_results)"
   ]
  },
  {
   "cell_type": "markdown",
   "metadata": {},
   "source": [
    "----------\n",
    "## 1.5 Gauss-Seidel"
   ]
  },
  {
   "cell_type": "code",
   "execution_count": null,
   "metadata": {},
   "outputs": [
    {
     "name": "stdout",
     "output_type": "stream",
     "text": [
      "The number of iterations needed for Gauss-Seidel method is 2309\n"
     ]
    }
   ],
   "source": [
    "max_iters = 100000\n",
    "epsilon = 1e-4\n",
    "N = 100\n",
    "\n",
    "grid = init_grid(N)\n",
    "\n",
    "gauss_seidel_results = gauss_seidel(grid, epsilon, max_iters)\n",
    "\n",
    "print(\n",
    "    f\"The number of iterations needed for Gauss-Seidel method is {len(gauss_seidel_results)}\"\n",
    ")\n",
    "\n",
    "animate_diffusion(gauss_seidel_results)"
   ]
  },
  {
   "cell_type": "code",
   "execution_count": null,
   "metadata": {},
   "outputs": [],
   "source": []
  }
 ],
 "metadata": {
  "kernelspec": {
   "display_name": "scientific-comp",
   "language": "python",
   "name": "python3"
  },
  "language_info": {
   "codemirror_mode": {
    "name": "ipython",
    "version": 3
   },
   "file_extension": ".py",
   "mimetype": "text/x-python",
   "name": "python",
   "nbconvert_exporter": "python",
   "pygments_lexer": "ipython3",
   "version": "3.12.8"
  }
 },
 "nbformat": 4,
 "nbformat_minor": 2
}
